{
  "nbformat": 4,
  "nbformat_minor": 0,
  "metadata": {
    "colab": {
      "provenance": []
    },
    "kernelspec": {
      "name": "python3",
      "display_name": "Python 3"
    },
    "language_info": {
      "name": "python"
    }
  },
  "cells": [
    {
      "cell_type": "markdown",
      "source": [
        "# Week 0 - Elementary of PyTorch"
      ],
      "metadata": {
        "id": "sa-4VntEcU3h"
      }
    },
    {
      "cell_type": "code",
      "execution_count": 1,
      "metadata": {
        "id": "eaD3jPzAYe2X"
      },
      "outputs": [],
      "source": [
        "import torch\n",
        "import numpy as np"
      ]
    },
    {
      "cell_type": "code",
      "source": [
        "# Everything in PyTorch is based on Tensor operations.\n",
        "# A tensor can have different dimensions: scalar, vector, matrix, tensor\n",
        "\n",
        "# torch.empty(size): uninitialized\n",
        "x = torch.empty(1)  # scalar\n",
        "print(\"Scalar Tensor (unintialized):\")\n",
        "print(x)\n",
        "\n",
        "x = torch.empty(3)  # vector, 1D\n",
        "print(\"\\nVector Tensor (unitialized):\")\n",
        "print(x)\n",
        "\n",
        "x = torch.empty(2, 3)  # matrix, 2D\n",
        "print(\"\\nMatrix Tensor (unitialized):\")\n",
        "print(x)\n",
        "\n",
        "x = torch.empty(2, 2, 3)  # tensor, 3 dimensions\n",
        "print(\"\\nTensor (3D) Tensor (unintialized):\")\n",
        "print(x)\n",
        "\n",
        "x = torch.empty(2, 2, 2, 3)  # tensor, 4 dimensions\n",
        "print(\"\\nTensor (4D) Tensor (unintioalized):\")\n",
        "print(x)"
      ],
      "metadata": {
        "colab": {
          "base_uri": "https://localhost:8080/"
        },
        "id": "YXiUSe9RcjHI",
        "outputId": "b64ce98a-d6c6-462e-8258-16cab6029177"
      },
      "execution_count": 4,
      "outputs": [
        {
          "output_type": "stream",
          "name": "stdout",
          "text": [
            "Scalar Tensor (unintialized):\n",
            "tensor([3.6083e-09])\n",
            "\n",
            "Vector Tensor (unitialized):\n",
            "tensor([-1.2900e-26,  3.2398e-41, -1.2868e-26])\n",
            "\n",
            "Matrix Tensor (unitialized):\n",
            "tensor([[-4.5331e-02,  4.5769e-41, -1.2305e-26],\n",
            "        [ 3.2398e-41,  4.4842e-44,  0.0000e+00]])\n",
            "\n",
            "Tensor (3D) Tensor (unintialized):\n",
            "tensor([[[-1.2901e-26,  3.2398e-41, -1.2353e-26],\n",
            "         [ 3.2398e-41, -1.0635e+08,  4.5768e-41]],\n",
            "\n",
            "        [[-1.0635e+08,  4.5768e-41, -1.0635e+08],\n",
            "         [ 4.5768e-41, -1.0635e+08,  4.5768e-41]]])\n",
            "\n",
            "Tensor (4D) Tensor (unintioalized):\n",
            "tensor([[[[-4.5332e-02,  4.5769e-41, -1.2818e-26],\n",
            "          [ 3.2398e-41,  0.0000e+00,  1.0878e-03]],\n",
            "\n",
            "         [[ 0.0000e+00,  1.6043e-05,  0.0000e+00],\n",
            "          [ 1.9169e+01,  0.0000e+00,  1.7154e-05]]],\n",
            "\n",
            "\n",
            "        [[[ 0.0000e+00,  1.9169e+01,  0.0000e+00],\n",
            "          [ 1.7154e-05,  0.0000e+00,  1.9169e+01]],\n",
            "\n",
            "         [[ 0.0000e+00,  1.7154e-05,  0.0000e+00],\n",
            "          [ 1.9169e+01,  0.0000e+00,  1.7154e-05]]]])\n"
          ]
        }
      ]
    },
    {
      "cell_type": "markdown",
      "source": [
        "## Create tensor with random, zeros and ones"
      ],
      "metadata": {
        "id": "9sKqTRXmlA2r"
      }
    },
    {
      "cell_type": "code",
      "source": [
        "# torch.rand(size) - random numbers [0, 1]\n",
        "x = torch.rand(5, 3)\n",
        "print(\"Random Tensor (Uniform Distribution):\")\n",
        "print(x)\n",
        "\n",
        "# torch.zeros(size) - fill with 0\n",
        "x = torch.zeros(5, 3)\n",
        "print(\"\\nTensor Filled with Zeros:\")\n",
        "print(x)\n",
        "\n",
        "# torch.ones(size) - fill with 1\n",
        "x = torch.ones(5, 3)\n",
        "print(\"\\nTensor Filled with Ones:\")\n",
        "print(x)"
      ],
      "metadata": {
        "colab": {
          "base_uri": "https://localhost:8080/"
        },
        "id": "Xcf9pIYndRGi",
        "outputId": "b3929b61-03ae-4811-9475-36ad1280b67a"
      },
      "execution_count": 6,
      "outputs": [
        {
          "output_type": "stream",
          "name": "stdout",
          "text": [
            "Random Tensor (Uniform Distribution):\n",
            "tensor([[0.5112, 0.6407, 0.7435],\n",
            "        [0.2742, 0.6684, 0.8683],\n",
            "        [0.7569, 0.4368, 0.6171],\n",
            "        [0.6059, 0.2615, 0.9390],\n",
            "        [0.4628, 0.5029, 0.9599]])\n",
            "\n",
            "Tensor Filled with Zeros:\n",
            "tensor([[0., 0., 0.],\n",
            "        [0., 0., 0.],\n",
            "        [0., 0., 0.],\n",
            "        [0., 0., 0.],\n",
            "        [0., 0., 0.]])\n",
            "\n",
            "Tensor Filled with Ones:\n",
            "tensor([[1., 1., 1.],\n",
            "        [1., 1., 1.],\n",
            "        [1., 1., 1.],\n",
            "        [1., 1., 1.],\n",
            "        [1., 1., 1.]])\n"
          ]
        }
      ]
    },
    {
      "cell_type": "markdown",
      "source": [
        "## Check Size and Data type"
      ],
      "metadata": {
        "id": "tbRWAhEHlY5T"
      }
    },
    {
      "cell_type": "code",
      "source": [
        "# check size\n",
        "print(\"Size of Tensor:\")\n",
        "print(x.size())\n",
        "\n",
        "# check data type\n",
        "print(\"\\nData Type of Tensor:\")\n",
        "print(x.dtype)"
      ],
      "metadata": {
        "colab": {
          "base_uri": "https://localhost:8080/"
        },
        "id": "fdabDA7ufALi",
        "outputId": "57a4f5b3-99e2-4dee-dbdb-2d8479abcd5d"
      },
      "execution_count": 7,
      "outputs": [
        {
          "output_type": "stream",
          "name": "stdout",
          "text": [
            "Size of Tensor:\n",
            "torch.Size([5, 3])\n",
            "\n",
            "Data Type of Tensor:\n",
            "torch.float32\n"
          ]
        }
      ]
    },
    {
      "cell_type": "code",
      "source": [
        "# specify types, float32 default. Convert type in other type\n",
        "x = torch.zeros(5, 3, dtype=torch.float16)\n",
        "print(\"Tensor with Specified Data Type (float16):\")\n",
        "print(x)\n",
        "\n",
        "# check type\n",
        "print(\"\\nData Type of Tensor (after specifying):\")\n",
        "print(x.dtype)"
      ],
      "metadata": {
        "colab": {
          "base_uri": "https://localhost:8080/"
        },
        "id": "4xQFRYEQfh8k",
        "outputId": "4c27428b-8012-4920-983e-5182a8157d6c"
      },
      "execution_count": 9,
      "outputs": [
        {
          "output_type": "stream",
          "name": "stdout",
          "text": [
            "Tensor with Specified Data Type (float16):\n",
            "tensor([[0., 0., 0.],\n",
            "        [0., 0., 0.],\n",
            "        [0., 0., 0.],\n",
            "        [0., 0., 0.],\n",
            "        [0., 0., 0.]], dtype=torch.float16)\n",
            "\n",
            "Data Type of Tensor (after specifying):\n",
            "torch.float16\n"
          ]
        }
      ]
    },
    {
      "cell_type": "code",
      "source": [
        "# construct from data\n",
        "x = torch.tensor([5.5, 3], dtype=torch.float16)\n",
        "print(\"Create our Tensor:\", x)\n",
        "\n",
        "print(\"\\nTensor Constructed from Data:\")\n",
        "print(x.size())"
      ],
      "metadata": {
        "colab": {
          "base_uri": "https://localhost:8080/"
        },
        "id": "u2FLxSHSgM96",
        "outputId": "8f04aa8b-794a-4c13-ed6f-976ffe97d110"
      },
      "execution_count": 15,
      "outputs": [
        {
          "output_type": "stream",
          "name": "stdout",
          "text": [
            "Create our Tensor: tensor([5.5000, 3.0000], dtype=torch.float16)\n",
            "\n",
            "Tensor Constructed from Data:\n",
            "torch.Size([2])\n"
          ]
        }
      ]
    },
    {
      "cell_type": "markdown",
      "source": [
        "## Set requires_grad Argument in tensor\n",
        "\n"
      ],
      "metadata": {
        "id": "q1IYBHxLlfrc"
      }
    },
    {
      "cell_type": "code",
      "source": [
        "# requires_grad argument\n",
        "# This will tell PyTorch that it will need to calculate the gradients for this tensor\n",
        "# Later in your optimization steps\n",
        "# i. e. this is a variable in your model that you want to optimize\n",
        "x = torch.tensor([5.5, 3], requires_grad=True)\n",
        "print(x)"
      ],
      "metadata": {
        "colab": {
          "base_uri": "https://localhost:8080/"
        },
        "id": "VXfuiU4EhCQ0",
        "outputId": "9ae1fe87-fdae-44e8-8c4e-d057bbf096d1"
      },
      "execution_count": 16,
      "outputs": [
        {
          "output_type": "stream",
          "name": "stdout",
          "text": [
            "tensor([5.5000, 3.0000], requires_grad=True)\n"
          ]
        }
      ]
    },
    {
      "cell_type": "markdown",
      "source": [
        "## Operations in PyTorch"
      ],
      "metadata": {
        "id": "m6DgZhhtkwgl"
      }
    },
    {
      "cell_type": "code",
      "source": [
        "# Operations\n",
        "y = torch.rand(2, 2)\n",
        "x = torch.rand(2, 2)\n",
        "print(y)\n",
        "print(x)\n",
        "\n",
        "# elemetwise addition\n",
        "z = x + y\n",
        "print(\"\\nElement-wise Addition:\")\n",
        "print(z)\n",
        "\n",
        "# in-place addition, everything with a trailing underscore is an inplace operations\n",
        "# i.e. it will modifi the variable\n",
        "# y.add_(x)\n",
        "\n",
        "# substraction\n",
        "z = x - y\n",
        "print(\"\\nSubtraction:\")\n",
        "print(z)\n",
        "\n",
        "# multiplication\n",
        "z = x * y\n",
        "print(\"\\nMultiplication:\")\n",
        "print(z)\n",
        "\n",
        "# division\n",
        "z = x / y\n",
        "print(\"\\nDivision:\")\n",
        "print(z)"
      ],
      "metadata": {
        "colab": {
          "base_uri": "https://localhost:8080/"
        },
        "id": "NWz6fLYAhw3Y",
        "outputId": "f85f3f6b-949f-4d38-efff-b2eec5d3489f"
      },
      "execution_count": 21,
      "outputs": [
        {
          "output_type": "stream",
          "name": "stdout",
          "text": [
            "tensor([[0.9923, 0.9269],\n",
            "        [0.6291, 0.8761]])\n",
            "tensor([[0.4957, 0.3685],\n",
            "        [0.9491, 0.2639]])\n",
            "\n",
            "Element-wise Addition:\n",
            "tensor([[1.4880, 1.2953],\n",
            "        [1.5782, 1.1400]])\n",
            "\n",
            "Subtraction:\n",
            "tensor([[-0.4966, -0.5584],\n",
            "        [ 0.3199, -0.6121]])\n",
            "\n",
            "Multiplication:\n",
            "tensor([[0.4918, 0.3415],\n",
            "        [0.5971, 0.2312]])\n",
            "\n",
            "Division:\n",
            "tensor([[0.4995, 0.3976],\n",
            "        [1.5085, 0.3013]])\n"
          ]
        }
      ]
    },
    {
      "cell_type": "markdown",
      "source": [
        "## Slicing and Get item in tensor"
      ],
      "metadata": {
        "id": "OjREOupKklFn"
      }
    },
    {
      "cell_type": "code",
      "source": [
        "# Slicing\n",
        "x = torch.rand(5, 3)\n",
        "print(\"Sliced Tensor:\")\n",
        "print(x)\n",
        "\n",
        "print(\"\\nSliced Column:\")\n",
        "print(x[:, 0])  # all rows, column 0\n",
        "\n",
        "print(\"\\nSliced Row:\")\n",
        "print(x[1, :])  # row 1, all columns\n",
        "\n",
        "print(\"\\nSliced Element:\")\n",
        "print(x[1, 1])  # element at 1, 1\n",
        "\n",
        "# Get the actual value if only 1 elemt in your tensot\n",
        "print(\"\\nValue of Single Element:\")\n",
        "print(x[1, 1].item())"
      ],
      "metadata": {
        "colab": {
          "base_uri": "https://localhost:8080/"
        },
        "id": "fL97RHoyjZZN",
        "outputId": "cdf17dc2-20ec-4fd5-8f9f-e9877708bdb9"
      },
      "execution_count": 22,
      "outputs": [
        {
          "output_type": "stream",
          "name": "stdout",
          "text": [
            "Sliced Tensor:\n",
            "tensor([[0.8265, 0.9137, 0.4298],\n",
            "        [0.9670, 0.1149, 0.6236],\n",
            "        [0.0266, 0.9343, 0.7912],\n",
            "        [0.6183, 0.5405, 0.0997],\n",
            "        [0.9072, 0.9769, 0.2382]])\n",
            "\n",
            "Sliced Column:\n",
            "tensor([0.8265, 0.9670, 0.0266, 0.6183, 0.9072])\n",
            "\n",
            "Sliced Row:\n",
            "tensor([0.9670, 0.1149, 0.6236])\n",
            "\n",
            "Sliced Element:\n",
            "tensor(0.1149)\n",
            "\n",
            "Value of Single Element:\n",
            "0.11494940519332886\n"
          ]
        }
      ]
    },
    {
      "cell_type": "markdown",
      "source": [
        "## Reshaping size tensor for compatibility with other tensors or neural network layers"
      ],
      "metadata": {
        "id": "3-eY37Lclubr"
      }
    },
    {
      "cell_type": "code",
      "source": [
        "# Reshape with torch.view()\n",
        "x = torch.randn(4, 4)\n",
        "print(x)\n",
        "\n",
        "y = x.view(16)\n",
        "z = x.view(-1, 8)  # the size -1 is inferred from other dimensions\n",
        "# if -1, PyTorch will automatically determine the necesseary size\n",
        "\n",
        "print(\"\\nReshaping Tensors:\")\n",
        "print(x.size(), y.size(), z.size())\n",
        "\n",
        "print(\"\\nShows the y, z tensor:\")\n",
        "print(y)\n",
        "print(z)"
      ],
      "metadata": {
        "colab": {
          "base_uri": "https://localhost:8080/"
        },
        "id": "ioqXDxSjlr2n",
        "outputId": "00952633-4df8-4afb-fecc-e8f97461d976"
      },
      "execution_count": 27,
      "outputs": [
        {
          "output_type": "stream",
          "name": "stdout",
          "text": [
            "tensor([[ 0.9959,  0.4080, -0.7122,  2.5993],\n",
            "        [-0.1235, -1.9314, -0.2966, -2.2324],\n",
            "        [-0.2596, -0.2073,  0.3111, -0.5772],\n",
            "        [-1.3707, -1.2446, -0.4658,  0.3446]])\n",
            "\n",
            "Reshaping Tensors:\n",
            "torch.Size([4, 4]) torch.Size([16]) torch.Size([2, 8])\n",
            "\n",
            "Shows the y, z tensor:\n",
            "tensor([ 0.9959,  0.4080, -0.7122,  2.5993, -0.1235, -1.9314, -0.2966, -2.2324,\n",
            "        -0.2596, -0.2073,  0.3111, -0.5772, -1.3707, -1.2446, -0.4658,  0.3446])\n",
            "tensor([[ 0.9959,  0.4080, -0.7122,  2.5993, -0.1235, -1.9314, -0.2966, -2.2324],\n",
            "        [-0.2596, -0.2073,  0.3111, -0.5772, -1.3707, -1.2446, -0.4658,  0.3446]])\n"
          ]
        }
      ]
    },
    {
      "cell_type": "markdown",
      "source": [
        "## Numpy"
      ],
      "metadata": {
        "id": "M1ltjZYBrpE2"
      }
    },
    {
      "cell_type": "code",
      "source": [
        "# Numpy\n",
        "# Converting a Torch Tensor to a NumPy array\n",
        "a = torch.ones(5)\n",
        "print(\"Tensor Converted to NumPy Array:\")\n",
        "print(a)\n",
        "\n",
        "# torch to numpy with .numpy()\n",
        "b = a.numpy()\n",
        "print(\"\\nNumPy Array:\")\n",
        "print(b)\n",
        "\n",
        "print(\"\\nType of Converted Array:\")\n",
        "print(type(b))"
      ],
      "metadata": {
        "colab": {
          "base_uri": "https://localhost:8080/"
        },
        "id": "3NeTjgdfro0A",
        "outputId": "473e0899-44ba-4b70-adab-cfc255e23bea"
      },
      "execution_count": 28,
      "outputs": [
        {
          "output_type": "stream",
          "name": "stdout",
          "text": [
            "Tensor Converted to NumPy Array:\n",
            "tensor([1., 1., 1., 1., 1.])\n",
            "\n",
            "NumPy Array:\n",
            "[1. 1. 1. 1. 1.]\n",
            "\n",
            "Type of Converted Array:\n",
            "<class 'numpy.ndarray'>\n"
          ]
        }
      ]
    },
    {
      "cell_type": "markdown",
      "source": [
        "## Memory and relations between Tensor and NumPy"
      ],
      "metadata": {
        "id": "iwpJr8KEtoEg"
      }
    },
    {
      "cell_type": "code",
      "source": [
        "# Careful: If the Tensor is on the CPU (not the GPU),\n",
        "# both objects will share the same memory location, so changing one\n",
        "# will also change the other\n",
        "a.add_(1)\n",
        "print(\"Modified Tensor (after adding 1):\")\n",
        "print(a)\n",
        "\n",
        "print(\"\\nCorresponding NumPy Array (also modified):\")\n",
        "print(b)\n",
        "\n",
        "# numpy to torch with .from_numpy(x)\n",
        "a = np.ones(1)\n",
        "b = torch.from_numpy(a)\n",
        "print(\"\\nNumPy Array Converted to Tensor:\")\n",
        "print(a)\n",
        "print(b)\n",
        "\n",
        "# again be careful when modifying\n",
        "a += 1\n",
        "print(\"\\nModified NumPy Array (after adding 1):\")\n",
        "print(a)\n",
        "\n",
        "print(\"\\nCorresponding Tensor (also modified):\")\n",
        "print(b)"
      ],
      "metadata": {
        "colab": {
          "base_uri": "https://localhost:8080/"
        },
        "id": "UCwQoWa0rkwM",
        "outputId": "c0703f27-72a4-478c-bdb1-0cb7f20f64fc"
      },
      "execution_count": 29,
      "outputs": [
        {
          "output_type": "stream",
          "name": "stdout",
          "text": [
            "Modified Tensor (after adding 1):\n",
            "tensor([2., 2., 2., 2., 2.])\n",
            "\n",
            "Corresponding NumPy Array (also modified):\n",
            "[2. 2. 2. 2. 2.]\n",
            "\n",
            "NumPy Array Converted to Tensor:\n",
            "[1.]\n",
            "tensor([1.], dtype=torch.float64)\n",
            "\n",
            "Modified NumPy Array (after adding 1):\n",
            "[2.]\n",
            "\n",
            "Corresponding Tensor (also modified):\n",
            "tensor([2.], dtype=torch.float64)\n"
          ]
        }
      ]
    },
    {
      "cell_type": "markdown",
      "source": [
        "## CPU, GPU with tensor"
      ],
      "metadata": {
        "id": "gRFjXfm9uEF6"
      }
    },
    {
      "cell_type": "code",
      "source": [
        "# by default all tensors are created on the CPU,\n",
        "# but you can also move them to the GPU (only if it's available)\n",
        "if torch.cuda.is_available():\n",
        "  device = torch.device(\"cuda\")  # a CUDA device object\n",
        "  print(device)\n",
        "  y = torch.ines_like(x, device=device)  # directly create a tensor on GPU\n",
        "  x = x.to(device)  # or just use strings .to(\"cuda\")\n",
        "  z = x + y\n",
        "  print(\"Tensor on GPU:\")\n",
        "  print(z)\n",
        "\n",
        "  # move to CPU again\n",
        "  z.to(\"cpu\")\n",
        "  print(\"\\nTensor on CPU:\")\n",
        "  print(z)"
      ],
      "metadata": {
        "id": "ib52csNet_s_"
      },
      "execution_count": 35,
      "outputs": []
    },
    {
      "cell_type": "code",
      "source": [
        "# Check cuda or apple silicon\n",
        "print(torch.cuda.is_available())\n",
        "print(torch.backends.mps.is_available())"
      ],
      "metadata": {
        "colab": {
          "base_uri": "https://localhost:8080/"
        },
        "id": "uGKt2RwsvcJb",
        "outputId": "02822cd0-315f-42e3-9bab-2a6a5dc52d4b"
      },
      "execution_count": 36,
      "outputs": [
        {
          "output_type": "stream",
          "name": "stdout",
          "text": [
            "False\n",
            "False\n"
          ]
        }
      ]
    }
  ]
}
