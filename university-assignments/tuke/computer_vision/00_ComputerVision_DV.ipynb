{
  "nbformat": 4,
  "nbformat_minor": 0,
  "metadata": {
    "colab": {
      "provenance": []
    },
    "kernelspec": {
      "name": "python3",
      "display_name": "Python 3"
    },
    "language_info": {
      "name": "python"
    }
  },
  "cells": [
    {
      "cell_type": "code",
      "source": [
        "import numpy as np"
      ],
      "metadata": {
        "id": "qJjIwt02Nlt8"
      },
      "execution_count": 1,
      "outputs": []
    },
    {
      "cell_type": "code",
      "execution_count": 52,
      "metadata": {
        "colab": {
          "base_uri": "https://localhost:8080/"
        },
        "id": "ioCFsPBgNhmw",
        "outputId": "50240623-2435-488b-b864-c59ced090e6f"
      },
      "outputs": [
        {
          "output_type": "execute_result",
          "data": {
            "text/plain": [
              "(640, 480)"
            ]
          },
          "metadata": {},
          "execution_count": 52
        }
      ],
      "source": [
        "# 1. Vytvorte náhodnú maticu 640x480 s desatinnými číslami z intervalu 0-1.\n",
        "arr = np.random.random((640, 480))\n",
        "arr\n",
        "arr.shape"
      ]
    },
    {
      "cell_type": "code",
      "source": [
        "# Preveďte ju na maticu, ktorá má 480 riadkov a 640 stĺpcov.\n",
        "arr = np.reshape(arr, (480, 640))\n",
        "arr\n",
        "arr.shape"
      ],
      "metadata": {
        "colab": {
          "base_uri": "https://localhost:8080/"
        },
        "id": "_zLLiDfAOZnA",
        "outputId": "94622973-98a9-4871-81ef-9260804e254f"
      },
      "execution_count": 53,
      "outputs": [
        {
          "output_type": "execute_result",
          "data": {
            "text/plain": [
              "(480, 640)"
            ]
          },
          "metadata": {},
          "execution_count": 53
        }
      ]
    },
    {
      "cell_type": "code",
      "source": [
        "# 2. Maticu preveďte na maticu celých čísel z intervalu 0-255, tak aby 0 zodpovedala 0 a 1 255.\n",
        "# Všetky elementy matice, ktoré sú menšie ako 50 nastavte na nulu.\n",
        "arr = (arr * 255).astype(np.int16) # arr = np.array((arr * 255), dtype=np.int64)\n",
        "arr[arr < 50] = 0 # np.where(arr < 50, 0, arr)\n",
        "arr"
      ],
      "metadata": {
        "colab": {
          "base_uri": "https://localhost:8080/"
        },
        "id": "VMQsRMltP_cV",
        "outputId": "4356b305-e8c0-462d-b583-57e8923c7a3c"
      },
      "execution_count": 54,
      "outputs": [
        {
          "output_type": "execute_result",
          "data": {
            "text/plain": [
              "array([[ 71, 110, 165, ...,   0,   0, 233],\n",
              "       [ 97,   0, 106, ..., 252, 111, 150],\n",
              "       [  0, 219,  94, ..., 213,  80, 207],\n",
              "       ...,\n",
              "       [  0,   0, 202, ..., 197,  61,   0],\n",
              "       [215, 142, 182, ..., 133, 142, 252],\n",
              "       [  0, 178, 175, ..., 139, 189, 128]], dtype=int16)"
            ]
          },
          "metadata": {},
          "execution_count": 54
        }
      ]
    },
    {
      "cell_type": "code",
      "source": [
        "# 3. Naštudujte si ako sa to robí a znormujte maticu na jednotkovú dĺžku (norm matice = 1).\n",
        "arr = np.linalg.norm(arr)\n",
        "arr"
      ],
      "metadata": {
        "colab": {
          "base_uri": "https://localhost:8080/"
        },
        "id": "3hq7hldyRsLS",
        "outputId": "c565ec66-8504-432a-d0a1-de95df0fbdd7"
      },
      "execution_count": 55,
      "outputs": [
        {
          "output_type": "execute_result",
          "data": {
            "text/plain": [
              "81129.6886225998"
            ]
          },
          "metadata": {},
          "execution_count": 55
        }
      ]
    },
    {
      "cell_type": "code",
      "source": [
        "# Example, distance of vector, matrix. norm = sqrt(x^2 + y^2)\n",
        "arr = np.array([3, 4])\n",
        "arr = np.linalg.norm(arr)\n",
        "arr"
      ],
      "metadata": {
        "colab": {
          "base_uri": "https://localhost:8080/"
        },
        "id": "6JjqjhnoaKEb",
        "outputId": "eb2df92f-656d-4b51-80e5-c8eeb8dc7c7c"
      },
      "execution_count": 56,
      "outputs": [
        {
          "output_type": "execute_result",
          "data": {
            "text/plain": [
              "5.0"
            ]
          },
          "metadata": {},
          "execution_count": 56
        }
      ]
    }
  ]
}